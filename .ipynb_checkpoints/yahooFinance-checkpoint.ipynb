{
 "cells": [
  {
   "cell_type": "code",
   "execution_count": null,
   "metadata": {},
   "outputs": [],
   "source": [
    "#!/usr/bin/env python3\n",
    "# -*- coding: utf-8 -*-\n",
    "\"\"\"\n",
    "Created on Sun May 26 18:26:00 2019\n",
    "\n",
    "@author: tony\n",
    "\"\"\"\n",
    "import numpy as np\n",
    "import pandas as pd\n",
    "import yfinance as yf\n",
    "import csv\n",
    "\"\"\"\n",
    "msft = yf.Ticker(\"MSFT\")\n",
    "hist = yf.download(\"MSFT AAPL\", start = \"2010-01-01\", end = \"2015-01-01\", auto_adjust = True)\n",
    "\n",
    "print(hist.values.tolist())\n",
    "\"\"\"\n",
    "\n",
    "listsOfSymbols = []\n",
    "with open(\"constituents.csv\") as csv_file:\n",
    "    csv_reader = csv.reader(csv_file, delimiter = ',')\n",
    "    a = list(csv_reader)\n",
    "    for i in range(len(a)-5):\n",
    "        listsOfSymbols += [a[i][0]]\n",
    "listsOfSymbols = listsOfSymbols[1:]\n",
    "\n",
    "\n",
    "dist = []\n",
    "\n",
    "#listsOfSymbols = ['MSFT','AAPL']\n",
    "for i in range(len(listsOfSymbols)):\n",
    "    sym = listsOfSymbols[i]\n",
    "    data = (yf.download(sym, start = \"2010-01-01\", end = \"2015-01-01\", auto_adjust =True)).values.tolist()\n",
    "    temp = [sym]\n",
    "    if len(data) != 0:\n",
    "        for j in range(len(data)):\n",
    "            temp = temp + [data[j][4]]\n",
    "        dist += [temp]\n",
    "        \n",
    "# abc = list(zip(*dist))\n",
    "# print(abc)\n",
    "\n",
    "hist = yf.download(\"MSFT\", start = \"2010-01-04\", end = \"2010-01-04\", auto_adjust = True)\n",
    "\n",
    "#start = \"2010-01-01\", end = \"2015-01-01\"\n",
    "print(hist)\n",
    "print(hist.values.tolist())\n",
    "with open(\"123456volume.csv\", 'w') as csvfile:\n",
    "        # writer = csv.DictWriter(csvfile, fieldnames=tempp)\n",
    "        # writer.writeheader()\n",
    "        writer = csv.writer(csvfile)\n",
    "        for k in dist:\n",
    "            writer.writerow(k)"
   ]
  }
 ],
 "metadata": {
  "kernelspec": {
   "display_name": "Python 3",
   "language": "python",
   "name": "python3"
  },
  "language_info": {
   "codemirror_mode": {
    "name": "ipython",
    "version": 3
   },
   "file_extension": ".py",
   "mimetype": "text/x-python",
   "name": "python",
   "nbconvert_exporter": "python",
   "pygments_lexer": "ipython3",
   "version": "3.7.1"
  }
 },
 "nbformat": 4,
 "nbformat_minor": 2
}
